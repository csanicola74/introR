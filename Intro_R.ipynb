{
  "nbformat": 4,
  "nbformat_minor": 0,
  "metadata": {
    "colab": {
      "provenance": [],
      "collapsed_sections": []
    },
    "kernelspec": {
      "name": "ir",
      "display_name": "R"
    },
    "language_info": {
      "name": "R"
    }
  },
  "cells": [
    {
      "cell_type": "code",
      "execution_count": 61,
      "metadata": {
        "id": "2hFTamqmYhLi"
      },
      "outputs": [],
      "source": [
        "x <- 12"
      ]
    },
    {
      "cell_type": "code",
      "source": [
        "# create vector of integers from 0 to 9\n",
        "some_numbers <- c(0,1,2,3,4,5,6,7,8,9)\n",
        "\n",
        "# alternatively \n",
        "some_numbers <- c(0:9)\n",
        "\n",
        "some_numbers"
      ],
      "metadata": {
        "id": "KACvrNTCY3vZ",
        "outputId": "4d1fd602-3abc-404f-924a-42a9a77a1983",
        "colab": {
          "base_uri": "https://localhost:8080/",
          "height": 34
        }
      },
      "execution_count": 62,
      "outputs": [
        {
          "output_type": "display_data",
          "data": {
            "text/html": [
              "<style>\n",
              ".list-inline {list-style: none; margin:0; padding: 0}\n",
              ".list-inline>li {display: inline-block}\n",
              ".list-inline>li:not(:last-child)::after {content: \"\\00b7\"; padding: 0 .5ex}\n",
              "</style>\n",
              "<ol class=list-inline><li>0</li><li>1</li><li>2</li><li>3</li><li>4</li><li>5</li><li>6</li><li>7</li><li>8</li><li>9</li></ol>\n"
            ],
            "text/markdown": "1. 0\n2. 1\n3. 2\n4. 3\n5. 4\n6. 5\n7. 6\n8. 7\n9. 8\n10. 9\n\n\n",
            "text/latex": "\\begin{enumerate*}\n\\item 0\n\\item 1\n\\item 2\n\\item 3\n\\item 4\n\\item 5\n\\item 6\n\\item 7\n\\item 8\n\\item 9\n\\end{enumerate*}\n",
            "text/plain": [
              " [1] 0 1 2 3 4 5 6 7 8 9"
            ]
          },
          "metadata": {}
        }
      ]
    },
    {
      "cell_type": "code",
      "source": [
        "mean(some_numbers)"
      ],
      "metadata": {
        "colab": {
          "base_uri": "https://localhost:8080/",
          "height": 34
        },
        "id": "grkGSC4heuBR",
        "outputId": "d4bb3288-3838-439d-fb97-af736e2e8144"
      },
      "execution_count": 63,
      "outputs": [
        {
          "output_type": "display_data",
          "data": {
            "text/html": [
              "4.5"
            ],
            "text/markdown": "4.5",
            "text/latex": "4.5",
            "text/plain": [
              "[1] 4.5"
            ]
          },
          "metadata": {}
        }
      ]
    },
    {
      "cell_type": "code",
      "source": [
        "install.packages('tidyverse')"
      ],
      "metadata": {
        "colab": {
          "base_uri": "https://localhost:8080/"
        },
        "id": "jIfG3wObe1TM",
        "outputId": "43a5ded6-f359-465e-f3be-67b72d9aa2d2"
      },
      "execution_count": 64,
      "outputs": [
        {
          "output_type": "stream",
          "name": "stderr",
          "text": [
            "Installing package into ‘/usr/local/lib/R/site-library’\n",
            "(as ‘lib’ is unspecified)\n",
            "\n"
          ]
        }
      ]
    },
    {
      "cell_type": "code",
      "source": [
        "library(tidyverse)"
      ],
      "metadata": {
        "id": "jwtImnTge_lh"
      },
      "execution_count": 65,
      "outputs": []
    },
    {
      "cell_type": "code",
      "source": [
        "paygap <- read.csv('/content/data/UK Gender Pay Gap Data - 2019 to 2020.csv', header = TRUE)"
      ],
      "metadata": {
        "id": "2m3yHWQFfMzR"
      },
      "execution_count": 66,
      "outputs": []
    },
    {
      "cell_type": "code",
      "source": [
        "head(paygap, n = 5)"
      ],
      "metadata": {
        "colab": {
          "base_uri": "https://localhost:8080/",
          "height": 674
        },
        "id": "cJ_wZoGIftk-",
        "outputId": "3e295a92-9132-4229-d56b-2adc94d82e9c"
      },
      "execution_count": 67,
      "outputs": [
        {
          "output_type": "display_data",
          "data": {
            "text/html": [
              "<table class=\"dataframe\">\n",
              "<caption>A data.frame: 5 × 27</caption>\n",
              "<thead>\n",
              "\t<tr><th></th><th scope=col>EmployerName</th><th scope=col>EmployerId</th><th scope=col>Address</th><th scope=col>PostCode</th><th scope=col>CompanyNumber</th><th scope=col>SicCodes</th><th scope=col>DiffMeanHourlyPercent</th><th scope=col>DiffMedianHourlyPercent</th><th scope=col>DiffMeanBonusPercent</th><th scope=col>DiffMedianBonusPercent</th><th scope=col>⋯</th><th scope=col>FemaleUpperMiddleQuartile</th><th scope=col>MaleTopQuartile</th><th scope=col>FemaleTopQuartile</th><th scope=col>CompanyLinkToGPGInfo</th><th scope=col>ResponsiblePerson</th><th scope=col>EmployerSize</th><th scope=col>CurrentName</th><th scope=col>SubmittedAfterTheDeadline</th><th scope=col>DueDate</th><th scope=col>DateSubmitted</th></tr>\n",
              "\t<tr><th></th><th scope=col>&lt;chr&gt;</th><th scope=col>&lt;int&gt;</th><th scope=col>&lt;chr&gt;</th><th scope=col>&lt;chr&gt;</th><th scope=col>&lt;chr&gt;</th><th scope=col>&lt;chr&gt;</th><th scope=col>&lt;dbl&gt;</th><th scope=col>&lt;dbl&gt;</th><th scope=col>&lt;dbl&gt;</th><th scope=col>&lt;dbl&gt;</th><th scope=col>⋯</th><th scope=col>&lt;dbl&gt;</th><th scope=col>&lt;dbl&gt;</th><th scope=col>&lt;dbl&gt;</th><th scope=col>&lt;chr&gt;</th><th scope=col>&lt;chr&gt;</th><th scope=col>&lt;chr&gt;</th><th scope=col>&lt;chr&gt;</th><th scope=col>&lt;chr&gt;</th><th scope=col>&lt;chr&gt;</th><th scope=col>&lt;chr&gt;</th></tr>\n",
              "</thead>\n",
              "<tbody>\n",
              "\t<tr><th scope=row>1</th><td>'PRIFYSGOL ABERYSTWYTH' AND 'ABERYSTWYTH UNIVERSITY'</td><td>19070</td><td>Aberystwyth University, Penglais, Ceredigion, SY23 3FL                            </td><td>SY23 3FL</td><td>RC000641</td><td>                     </td><td>11.5</td><td>10.3</td><td>    NA</td><td>    NA</td><td>⋯</td><td>60.0</td><td>62.0</td><td>38.0</td><td>https://www.aber.ac.uk/en/equality/genderpaygapreporting2019/ \n",
              "\n",
              "https://www.aber.ac.uk/cy/equality/gender-pay-gap/</td><td>Elizabeth Treasure (Vice-Chancellor)          </td><td>1000 to 4999</td><td>'PRIFYSGOL ABERYSTWYTH' AND 'ABERYSTWYTH UNIVERSITY'</td><td>False</td><td>2020/04/05 00:00:00</td><td>2020/04/03 14:47:45</td></tr>\n",
              "\t<tr><th scope=row>2</th><td>10 TRINITY SQUARE HOTEL LIMITED                     </td><td>19455</td><td>5 Market Yard Mews, 194-204 Bermondsey Street, London, United Kingdom, SE1 3TQ    </td><td>SE1 3TQ </td><td>08064685</td><td>82990                </td><td> 8.7</td><td>10.3</td><td>  29.6</td><td>  54.5</td><td>⋯</td><td>21.1</td><td>66.7</td><td>33.3</td><td>                                                                                                                    </td><td>Linda Stigter (Director of People and Culture)</td><td>250 to 499  </td><td>10 TRINITY SQUARE HOTEL LIMITED                     </td><td>False</td><td>2020/04/05 00:00:00</td><td>2020/03/19 15:51:20</td></tr>\n",
              "\t<tr><th scope=row>3</th><td>1LIFE MANAGEMENT SOLUTIONS LIMITED                  </td><td>  687</td><td>Ldh House St Ives Business Park, Parsons Green, St. Ives, Cambridgeshire, PE27 4AA</td><td>PE27 4AA</td><td>02566586</td><td>93110,\n",
              "93130,\n",
              "93290</td><td>11.0</td><td>-0.5</td><td>  81.5</td><td>  94.2</td><td>⋯</td><td>57.7</td><td>44.2</td><td>55.8</td><td>https://www.1life.co.uk/gender-pay-gap                                                                              </td><td>Mark Braithwaite (Managing Director)          </td><td>250 to 499  </td><td>1LIFE MANAGEMENT SOLUTIONS LIMITED                  </td><td>False</td><td>2020/04/05 00:00:00</td><td>2020/03/10 17:03:17</td></tr>\n",
              "\t<tr><th scope=row>4</th><td>1ST CHOICE STAFF RECRUITMENT LIMITED                </td><td>18136</td><td>1ST CHOICE RECRUITMENT, 8 St. Loyes Street, Bedford, MK40 1EP                     </td><td>MK40 1EP</td><td>07972006</td><td>78109                </td><td>-2.3</td><td> 0.0</td><td>-114.8</td><td>-249.3</td><td>⋯</td><td>37.1</td><td>50.0</td><td>50.0</td><td>https://www.1stchoice.net/gender-pay-gap-report-2019/                                                               </td><td>Gill Knight (MD)                              </td><td>250 to 499  </td><td>1ST CHOICE STAFF RECRUITMENT LIMITED                </td><td>False</td><td>2020/04/05 00:00:00</td><td>2020/01/24 09:37:01</td></tr>\n",
              "\t<tr><th scope=row>5</th><td>1ST HOME CARE LTD.                                  </td><td>17484</td><td>Real Life Options, 35 East Port, Dunfermline, Fife, Scotland, KY12 7LG            </td><td>KY12 7LG</td><td>SC272838</td><td>86900,\n",
              "88100        </td><td>-2.0</td><td> 0.5</td><td>    NA</td><td>    NA</td><td>⋯</td><td>91.0</td><td> 9.0</td><td>91.0</td><td>https://reallifeoptions.org/                                                                                        </td><td>Ian Hardcastle (Chief Operating Officer)      </td><td>250 to 499  </td><td>1ST HOME CARE LTD.                                  </td><td>False</td><td>2020/04/05 00:00:00</td><td>2020/03/12 08:21:06</td></tr>\n",
              "</tbody>\n",
              "</table>\n"
            ],
            "text/markdown": "\nA data.frame: 5 × 27\n\n| <!--/--> | EmployerName &lt;chr&gt; | EmployerId &lt;int&gt; | Address &lt;chr&gt; | PostCode &lt;chr&gt; | CompanyNumber &lt;chr&gt; | SicCodes &lt;chr&gt; | DiffMeanHourlyPercent &lt;dbl&gt; | DiffMedianHourlyPercent &lt;dbl&gt; | DiffMeanBonusPercent &lt;dbl&gt; | DiffMedianBonusPercent &lt;dbl&gt; | ⋯ ⋯ | FemaleUpperMiddleQuartile &lt;dbl&gt; | MaleTopQuartile &lt;dbl&gt; | FemaleTopQuartile &lt;dbl&gt; | CompanyLinkToGPGInfo &lt;chr&gt; | ResponsiblePerson &lt;chr&gt; | EmployerSize &lt;chr&gt; | CurrentName &lt;chr&gt; | SubmittedAfterTheDeadline &lt;chr&gt; | DueDate &lt;chr&gt; | DateSubmitted &lt;chr&gt; |\n|---|---|---|---|---|---|---|---|---|---|---|---|---|---|---|---|---|---|---|---|---|---|\n| 1 | 'PRIFYSGOL ABERYSTWYTH' AND 'ABERYSTWYTH UNIVERSITY' | 19070 | Aberystwyth University, Penglais, Ceredigion, SY23 3FL                             | SY23 3FL | RC000641 | <!----> | 11.5 | 10.3 |     NA |     NA | ⋯ | 60.0 | 62.0 | 38.0 | https://www.aber.ac.uk/en/equality/genderpaygapreporting2019/ \n\nhttps://www.aber.ac.uk/cy/equality/gender-pay-gap/ | Elizabeth Treasure (Vice-Chancellor)           | 1000 to 4999 | 'PRIFYSGOL ABERYSTWYTH' AND 'ABERYSTWYTH UNIVERSITY' | False | 2020/04/05 00:00:00 | 2020/04/03 14:47:45 |\n| 2 | 10 TRINITY SQUARE HOTEL LIMITED                      | 19455 | 5 Market Yard Mews, 194-204 Bermondsey Street, London, United Kingdom, SE1 3TQ     | SE1 3TQ  | 08064685 | 82990                 |  8.7 | 10.3 |   29.6 |   54.5 | ⋯ | 21.1 | 66.7 | 33.3 | <!----> | Linda Stigter (Director of People and Culture) | 250 to 499   | 10 TRINITY SQUARE HOTEL LIMITED                      | False | 2020/04/05 00:00:00 | 2020/03/19 15:51:20 |\n| 3 | 1LIFE MANAGEMENT SOLUTIONS LIMITED                   |   687 | Ldh House St Ives Business Park, Parsons Green, St. Ives, Cambridgeshire, PE27 4AA | PE27 4AA | 02566586 | 93110,\n93130,\n93290 | 11.0 | -0.5 |   81.5 |   94.2 | ⋯ | 57.7 | 44.2 | 55.8 | https://www.1life.co.uk/gender-pay-gap                                                                               | Mark Braithwaite (Managing Director)           | 250 to 499   | 1LIFE MANAGEMENT SOLUTIONS LIMITED                   | False | 2020/04/05 00:00:00 | 2020/03/10 17:03:17 |\n| 4 | 1ST CHOICE STAFF RECRUITMENT LIMITED                 | 18136 | 1ST CHOICE RECRUITMENT, 8 St. Loyes Street, Bedford, MK40 1EP                      | MK40 1EP | 07972006 | 78109                 | -2.3 |  0.0 | -114.8 | -249.3 | ⋯ | 37.1 | 50.0 | 50.0 | https://www.1stchoice.net/gender-pay-gap-report-2019/                                                                | Gill Knight (MD)                               | 250 to 499   | 1ST CHOICE STAFF RECRUITMENT LIMITED                 | False | 2020/04/05 00:00:00 | 2020/01/24 09:37:01 |\n| 5 | 1ST HOME CARE LTD.                                   | 17484 | Real Life Options, 35 East Port, Dunfermline, Fife, Scotland, KY12 7LG             | KY12 7LG | SC272838 | 86900,\n88100         | -2.0 |  0.5 |     NA |     NA | ⋯ | 91.0 |  9.0 | 91.0 | https://reallifeoptions.org/                                                                                         | Ian Hardcastle (Chief Operating Officer)       | 250 to 499   | 1ST HOME CARE LTD.                                   | False | 2020/04/05 00:00:00 | 2020/03/12 08:21:06 |\n\n",
            "text/latex": "A data.frame: 5 × 27\n\\begin{tabular}{r|lllllllllllllllllllll}\n  & EmployerName & EmployerId & Address & PostCode & CompanyNumber & SicCodes & DiffMeanHourlyPercent & DiffMedianHourlyPercent & DiffMeanBonusPercent & DiffMedianBonusPercent & ⋯ & FemaleUpperMiddleQuartile & MaleTopQuartile & FemaleTopQuartile & CompanyLinkToGPGInfo & ResponsiblePerson & EmployerSize & CurrentName & SubmittedAfterTheDeadline & DueDate & DateSubmitted\\\\\n  & <chr> & <int> & <chr> & <chr> & <chr> & <chr> & <dbl> & <dbl> & <dbl> & <dbl> & ⋯ & <dbl> & <dbl> & <dbl> & <chr> & <chr> & <chr> & <chr> & <chr> & <chr> & <chr>\\\\\n\\hline\n\t1 & 'PRIFYSGOL ABERYSTWYTH' AND 'ABERYSTWYTH UNIVERSITY' & 19070 & Aberystwyth University, Penglais, Ceredigion, SY23 3FL                             & SY23 3FL & RC000641 &                       & 11.5 & 10.3 &     NA &     NA & ⋯ & 60.0 & 62.0 & 38.0 & https://www.aber.ac.uk/en/equality/genderpaygapreporting2019/ \n\nhttps://www.aber.ac.uk/cy/equality/gender-pay-gap/ & Elizabeth Treasure (Vice-Chancellor)           & 1000 to 4999 & 'PRIFYSGOL ABERYSTWYTH' AND 'ABERYSTWYTH UNIVERSITY' & False & 2020/04/05 00:00:00 & 2020/04/03 14:47:45\\\\\n\t2 & 10 TRINITY SQUARE HOTEL LIMITED                      & 19455 & 5 Market Yard Mews, 194-204 Bermondsey Street, London, United Kingdom, SE1 3TQ     & SE1 3TQ  & 08064685 & 82990                 &  8.7 & 10.3 &   29.6 &   54.5 & ⋯ & 21.1 & 66.7 & 33.3 &                                                                                                                      & Linda Stigter (Director of People and Culture) & 250 to 499   & 10 TRINITY SQUARE HOTEL LIMITED                      & False & 2020/04/05 00:00:00 & 2020/03/19 15:51:20\\\\\n\t3 & 1LIFE MANAGEMENT SOLUTIONS LIMITED                   &   687 & Ldh House St Ives Business Park, Parsons Green, St. Ives, Cambridgeshire, PE27 4AA & PE27 4AA & 02566586 & 93110,\n93130,\n93290 & 11.0 & -0.5 &   81.5 &   94.2 & ⋯ & 57.7 & 44.2 & 55.8 & https://www.1life.co.uk/gender-pay-gap                                                                               & Mark Braithwaite (Managing Director)           & 250 to 499   & 1LIFE MANAGEMENT SOLUTIONS LIMITED                   & False & 2020/04/05 00:00:00 & 2020/03/10 17:03:17\\\\\n\t4 & 1ST CHOICE STAFF RECRUITMENT LIMITED                 & 18136 & 1ST CHOICE RECRUITMENT, 8 St. Loyes Street, Bedford, MK40 1EP                      & MK40 1EP & 07972006 & 78109                 & -2.3 &  0.0 & -114.8 & -249.3 & ⋯ & 37.1 & 50.0 & 50.0 & https://www.1stchoice.net/gender-pay-gap-report-2019/                                                                & Gill Knight (MD)                               & 250 to 499   & 1ST CHOICE STAFF RECRUITMENT LIMITED                 & False & 2020/04/05 00:00:00 & 2020/01/24 09:37:01\\\\\n\t5 & 1ST HOME CARE LTD.                                   & 17484 & Real Life Options, 35 East Port, Dunfermline, Fife, Scotland, KY12 7LG             & KY12 7LG & SC272838 & 86900,\n88100         & -2.0 &  0.5 &     NA &     NA & ⋯ & 91.0 &  9.0 & 91.0 & https://reallifeoptions.org/                                                                                         & Ian Hardcastle (Chief Operating Officer)       & 250 to 499   & 1ST HOME CARE LTD.                                   & False & 2020/04/05 00:00:00 & 2020/03/12 08:21:06\\\\\n\\end{tabular}\n",
            "text/plain": [
              "  EmployerName                                         EmployerId\n",
              "1 'PRIFYSGOL ABERYSTWYTH' AND 'ABERYSTWYTH UNIVERSITY' 19070     \n",
              "2 10 TRINITY SQUARE HOTEL LIMITED                      19455     \n",
              "3 1LIFE MANAGEMENT SOLUTIONS LIMITED                     687     \n",
              "4 1ST CHOICE STAFF RECRUITMENT LIMITED                 18136     \n",
              "5 1ST HOME CARE LTD.                                   17484     \n",
              "  Address                                                                           \n",
              "1 Aberystwyth University, Penglais, Ceredigion, SY23 3FL                            \n",
              "2 5 Market Yard Mews, 194-204 Bermondsey Street, London, United Kingdom, SE1 3TQ    \n",
              "3 Ldh House St Ives Business Park, Parsons Green, St. Ives, Cambridgeshire, PE27 4AA\n",
              "4 1ST CHOICE RECRUITMENT, 8 St. Loyes Street, Bedford, MK40 1EP                     \n",
              "5 Real Life Options, 35 East Port, Dunfermline, Fife, Scotland, KY12 7LG            \n",
              "  PostCode CompanyNumber SicCodes              DiffMeanHourlyPercent\n",
              "1 SY23 3FL RC000641                            11.5                 \n",
              "2 SE1 3TQ  08064685      82990                  8.7                 \n",
              "3 PE27 4AA 02566586      93110,\\n93130,\\n93290 11.0                 \n",
              "4 MK40 1EP 07972006      78109                 -2.3                 \n",
              "5 KY12 7LG SC272838      86900,\\n88100         -2.0                 \n",
              "  DiffMedianHourlyPercent DiffMeanBonusPercent DiffMedianBonusPercent ⋯\n",
              "1 10.3                        NA                   NA                 ⋯\n",
              "2 10.3                      29.6                 54.5                 ⋯\n",
              "3 -0.5                      81.5                 94.2                 ⋯\n",
              "4  0.0                    -114.8               -249.3                 ⋯\n",
              "5  0.5                        NA                   NA                 ⋯\n",
              "  FemaleUpperMiddleQuartile MaleTopQuartile FemaleTopQuartile\n",
              "1 60.0                      62.0            38.0             \n",
              "2 21.1                      66.7            33.3             \n",
              "3 57.7                      44.2            55.8             \n",
              "4 37.1                      50.0            50.0             \n",
              "5 91.0                       9.0            91.0             \n",
              "  CompanyLinkToGPGInfo                                                                                                \n",
              "1 https://www.aber.ac.uk/en/equality/genderpaygapreporting2019/ \\n\\nhttps://www.aber.ac.uk/cy/equality/gender-pay-gap/\n",
              "2                                                                                                                     \n",
              "3 https://www.1life.co.uk/gender-pay-gap                                                                              \n",
              "4 https://www.1stchoice.net/gender-pay-gap-report-2019/                                                               \n",
              "5 https://reallifeoptions.org/                                                                                        \n",
              "  ResponsiblePerson                              EmployerSize\n",
              "1 Elizabeth Treasure (Vice-Chancellor)           1000 to 4999\n",
              "2 Linda Stigter (Director of People and Culture) 250 to 499  \n",
              "3 Mark Braithwaite (Managing Director)           250 to 499  \n",
              "4 Gill Knight (MD)                               250 to 499  \n",
              "5 Ian Hardcastle (Chief Operating Officer)       250 to 499  \n",
              "  CurrentName                                         \n",
              "1 'PRIFYSGOL ABERYSTWYTH' AND 'ABERYSTWYTH UNIVERSITY'\n",
              "2 10 TRINITY SQUARE HOTEL LIMITED                     \n",
              "3 1LIFE MANAGEMENT SOLUTIONS LIMITED                  \n",
              "4 1ST CHOICE STAFF RECRUITMENT LIMITED                \n",
              "5 1ST HOME CARE LTD.                                  \n",
              "  SubmittedAfterTheDeadline DueDate             DateSubmitted      \n",
              "1 False                     2020/04/05 00:00:00 2020/04/03 14:47:45\n",
              "2 False                     2020/04/05 00:00:00 2020/03/19 15:51:20\n",
              "3 False                     2020/04/05 00:00:00 2020/03/10 17:03:17\n",
              "4 False                     2020/04/05 00:00:00 2020/01/24 09:37:01\n",
              "5 False                     2020/04/05 00:00:00 2020/03/12 08:21:06"
            ]
          },
          "metadata": {}
        }
      ]
    },
    {
      "cell_type": "code",
      "source": [
        "colnames(paygap)"
      ],
      "metadata": {
        "colab": {
          "base_uri": "https://localhost:8080/",
          "height": 69
        },
        "id": "2YcHY7qMf4hj",
        "outputId": "c78aaf86-fad1-4194-d05e-0ef222ba2cc8"
      },
      "execution_count": 68,
      "outputs": [
        {
          "output_type": "display_data",
          "data": {
            "text/html": [
              "<style>\n",
              ".list-inline {list-style: none; margin:0; padding: 0}\n",
              ".list-inline>li {display: inline-block}\n",
              ".list-inline>li:not(:last-child)::after {content: \"\\00b7\"; padding: 0 .5ex}\n",
              "</style>\n",
              "<ol class=list-inline><li>'EmployerName'</li><li>'EmployerId'</li><li>'Address'</li><li>'PostCode'</li><li>'CompanyNumber'</li><li>'SicCodes'</li><li>'DiffMeanHourlyPercent'</li><li>'DiffMedianHourlyPercent'</li><li>'DiffMeanBonusPercent'</li><li>'DiffMedianBonusPercent'</li><li>'MaleBonusPercent'</li><li>'FemaleBonusPercent'</li><li>'MaleLowerQuartile'</li><li>'FemaleLowerQuartile'</li><li>'MaleLowerMiddleQuartile'</li><li>'FemaleLowerMiddleQuartile'</li><li>'MaleUpperMiddleQuartile'</li><li>'FemaleUpperMiddleQuartile'</li><li>'MaleTopQuartile'</li><li>'FemaleTopQuartile'</li><li>'CompanyLinkToGPGInfo'</li><li>'ResponsiblePerson'</li><li>'EmployerSize'</li><li>'CurrentName'</li><li>'SubmittedAfterTheDeadline'</li><li>'DueDate'</li><li>'DateSubmitted'</li></ol>\n"
            ],
            "text/markdown": "1. 'EmployerName'\n2. 'EmployerId'\n3. 'Address'\n4. 'PostCode'\n5. 'CompanyNumber'\n6. 'SicCodes'\n7. 'DiffMeanHourlyPercent'\n8. 'DiffMedianHourlyPercent'\n9. 'DiffMeanBonusPercent'\n10. 'DiffMedianBonusPercent'\n11. 'MaleBonusPercent'\n12. 'FemaleBonusPercent'\n13. 'MaleLowerQuartile'\n14. 'FemaleLowerQuartile'\n15. 'MaleLowerMiddleQuartile'\n16. 'FemaleLowerMiddleQuartile'\n17. 'MaleUpperMiddleQuartile'\n18. 'FemaleUpperMiddleQuartile'\n19. 'MaleTopQuartile'\n20. 'FemaleTopQuartile'\n21. 'CompanyLinkToGPGInfo'\n22. 'ResponsiblePerson'\n23. 'EmployerSize'\n24. 'CurrentName'\n25. 'SubmittedAfterTheDeadline'\n26. 'DueDate'\n27. 'DateSubmitted'\n\n\n",
            "text/latex": "\\begin{enumerate*}\n\\item 'EmployerName'\n\\item 'EmployerId'\n\\item 'Address'\n\\item 'PostCode'\n\\item 'CompanyNumber'\n\\item 'SicCodes'\n\\item 'DiffMeanHourlyPercent'\n\\item 'DiffMedianHourlyPercent'\n\\item 'DiffMeanBonusPercent'\n\\item 'DiffMedianBonusPercent'\n\\item 'MaleBonusPercent'\n\\item 'FemaleBonusPercent'\n\\item 'MaleLowerQuartile'\n\\item 'FemaleLowerQuartile'\n\\item 'MaleLowerMiddleQuartile'\n\\item 'FemaleLowerMiddleQuartile'\n\\item 'MaleUpperMiddleQuartile'\n\\item 'FemaleUpperMiddleQuartile'\n\\item 'MaleTopQuartile'\n\\item 'FemaleTopQuartile'\n\\item 'CompanyLinkToGPGInfo'\n\\item 'ResponsiblePerson'\n\\item 'EmployerSize'\n\\item 'CurrentName'\n\\item 'SubmittedAfterTheDeadline'\n\\item 'DueDate'\n\\item 'DateSubmitted'\n\\end{enumerate*}\n",
            "text/plain": [
              " [1] \"EmployerName\"              \"EmployerId\"               \n",
              " [3] \"Address\"                   \"PostCode\"                 \n",
              " [5] \"CompanyNumber\"             \"SicCodes\"                 \n",
              " [7] \"DiffMeanHourlyPercent\"     \"DiffMedianHourlyPercent\"  \n",
              " [9] \"DiffMeanBonusPercent\"      \"DiffMedianBonusPercent\"   \n",
              "[11] \"MaleBonusPercent\"          \"FemaleBonusPercent\"       \n",
              "[13] \"MaleLowerQuartile\"         \"FemaleLowerQuartile\"      \n",
              "[15] \"MaleLowerMiddleQuartile\"   \"FemaleLowerMiddleQuartile\"\n",
              "[17] \"MaleUpperMiddleQuartile\"   \"FemaleUpperMiddleQuartile\"\n",
              "[19] \"MaleTopQuartile\"           \"FemaleTopQuartile\"        \n",
              "[21] \"CompanyLinkToGPGInfo\"      \"ResponsiblePerson\"        \n",
              "[23] \"EmployerSize\"              \"CurrentName\"              \n",
              "[25] \"SubmittedAfterTheDeadline\" \"DueDate\"                  \n",
              "[27] \"DateSubmitted\"            "
            ]
          },
          "metadata": {}
        }
      ]
    },
    {
      "cell_type": "code",
      "source": [
        "dim(paygap)"
      ],
      "metadata": {
        "colab": {
          "base_uri": "https://localhost:8080/",
          "height": 34
        },
        "id": "fLIfz7qCf6lw",
        "outputId": "c655af12-3646-4cd7-84ab-4c2c4e39c3e7"
      },
      "execution_count": 69,
      "outputs": [
        {
          "output_type": "display_data",
          "data": {
            "text/html": [
              "<style>\n",
              ".list-inline {list-style: none; margin:0; padding: 0}\n",
              ".list-inline>li {display: inline-block}\n",
              ".list-inline>li:not(:last-child)::after {content: \"\\00b7\"; padding: 0 .5ex}\n",
              "</style>\n",
              "<ol class=list-inline><li>6921</li><li>27</li></ol>\n"
            ],
            "text/markdown": "1. 6921\n2. 27\n\n\n",
            "text/latex": "\\begin{enumerate*}\n\\item 6921\n\\item 27\n\\end{enumerate*}\n",
            "text/plain": [
              "[1] 6921   27"
            ]
          },
          "metadata": {}
        }
      ]
    },
    {
      "cell_type": "code",
      "source": [
        "class(paygap)"
      ],
      "metadata": {
        "colab": {
          "base_uri": "https://localhost:8080/",
          "height": 34
        },
        "id": "Ne0vo3IAgF0z",
        "outputId": "7d134235-f749-46a2-fefd-7652391bc7c1"
      },
      "execution_count": 70,
      "outputs": [
        {
          "output_type": "display_data",
          "data": {
            "text/html": [
              "'data.frame'"
            ],
            "text/markdown": "'data.frame'",
            "text/latex": "'data.frame'",
            "text/plain": [
              "[1] \"data.frame\""
            ]
          },
          "metadata": {}
        }
      ]
    },
    {
      "cell_type": "code",
      "source": [
        "class(paygap$DiffMeanHourlyPercent)"
      ],
      "metadata": {
        "colab": {
          "base_uri": "https://localhost:8080/",
          "height": 34
        },
        "id": "DFRQS1O3gI3X",
        "outputId": "e5de80e4-2773-4bd1-8097-1da87bb8cb6c"
      },
      "execution_count": 71,
      "outputs": [
        {
          "output_type": "display_data",
          "data": {
            "text/html": [
              "'numeric'"
            ],
            "text/markdown": "'numeric'",
            "text/latex": "'numeric'",
            "text/plain": [
              "[1] \"numeric\""
            ]
          },
          "metadata": {}
        }
      ]
    },
    {
      "cell_type": "code",
      "source": [
        "bodytemp <- c(96.3,96.7,96.9,97,97.1,97.1,97.1,97.2,97.3,97.4,97.4,97.4,97.4,97.5,97.5,97.6,97.6,97.6,97.7,97.8,97.8,97.8,97.8,97.9,97.9,98,98,98,98,98,98,98.1,98.1,98.2,98.2,98.2,98.2,98.3,98.3,98.4,98.4,98.4,98.4,98.5,98.5,98.6,98.6,98.6,98.6,98.6,98.6,98.7,98.7,98.8,98.8,98.8,98.9,99,99,99,99.1,99.2,99.3,99.4,99.5,96.4,96.7,96.8,97.2,97.2,97.4,97.6,97.7,97.7,97.8,97.8,97.8,97.9,97.9,97.9,98,98,98,98,98,98.1,98.2,98.2,98.2,98.2,98.2,98.2,98.3,98.3,98.3,98.4,98.4,98.4,98.4,98.4,98.5,98.6,98.6,98.6,98.6,98.7,98.7,98.7,98.7,98.7,98.7,98.8,98.8,98.8,98.8,98.8,98.8,98.8,98.9,99,99,99.1,99.1,99.2,99.2,99.3,99.4,99.9,100,100.8)\n",
        "gender <- c(1,1,1,1,1,1,1,1,1,1,1,1,1,1,1,1,1,1,1,1,1,1,1,1,1,1,1,1,1,1,1,1,1,1,1,1,1,1,1,1,1,1,1,1,1,1,1,1,1,1,1,1,1,1,1,1,1,1,1,1,1,1,1,1,1,2,2,2,2,2,2,2,2,2,2,2,2,2,2,2,2,2,2,2,2,2,2,2,2,2,2,2,2,2,2,2,2,2,2,2,2,2,2,2,2,2,2,2,2,2,2,2,2,2,2,2,2,2,2,2,2,2,2,2,2,2,2,2,2,2)\n",
        "heartrate <- c(70,71,74,80,73,75,82,64,69,70,68,72,78,70,75,74,69,73,77,58,73,65,74,76,72,78,71,74,67,64,78,73,67,66,64,71,72,86,72,68,70,82,84,68,71,77,78,83,66,70,82,73,78,78,81,78,80,75,79,81,71,83,63,70,75,69,62,75,66,68,57,61,84,61,77,62,71,68,69,79,76,87,78,73,89,81,73,64,65,73,69,57,79,78,80,79,81,73,74,84,83,82,85,86,77,72,79,59,64,65,82,64,70,83,89,69,73,84,76,79,81,80,74,77,66,68,77,79,78,77)\n",
        "\n",
        "cardiacdata <- data.frame(bodytemp = bodytemp,\n",
        "                  gender = gender,\n",
        "                  heartrate = heartrate)"
      ],
      "metadata": {
        "id": "iBLKhwnnhyWS"
      },
      "execution_count": 72,
      "outputs": []
    },
    {
      "cell_type": "code",
      "source": [
        "head(cardiacdata, n = 5)"
      ],
      "metadata": {
        "colab": {
          "base_uri": "https://localhost:8080/",
          "height": 255
        },
        "id": "BVi5RYYJh5y_",
        "outputId": "28e63c72-ee0c-477c-b2e8-0be16a845097"
      },
      "execution_count": 73,
      "outputs": [
        {
          "output_type": "display_data",
          "data": {
            "text/html": [
              "<table class=\"dataframe\">\n",
              "<caption>A data.frame: 5 × 3</caption>\n",
              "<thead>\n",
              "\t<tr><th></th><th scope=col>bodytemp</th><th scope=col>gender</th><th scope=col>heartrate</th></tr>\n",
              "\t<tr><th></th><th scope=col>&lt;dbl&gt;</th><th scope=col>&lt;dbl&gt;</th><th scope=col>&lt;dbl&gt;</th></tr>\n",
              "</thead>\n",
              "<tbody>\n",
              "\t<tr><th scope=row>1</th><td>96.3</td><td>1</td><td>70</td></tr>\n",
              "\t<tr><th scope=row>2</th><td>96.7</td><td>1</td><td>71</td></tr>\n",
              "\t<tr><th scope=row>3</th><td>96.9</td><td>1</td><td>74</td></tr>\n",
              "\t<tr><th scope=row>4</th><td>97.0</td><td>1</td><td>80</td></tr>\n",
              "\t<tr><th scope=row>5</th><td>97.1</td><td>1</td><td>73</td></tr>\n",
              "</tbody>\n",
              "</table>\n"
            ],
            "text/markdown": "\nA data.frame: 5 × 3\n\n| <!--/--> | bodytemp &lt;dbl&gt; | gender &lt;dbl&gt; | heartrate &lt;dbl&gt; |\n|---|---|---|---|\n| 1 | 96.3 | 1 | 70 |\n| 2 | 96.7 | 1 | 71 |\n| 3 | 96.9 | 1 | 74 |\n| 4 | 97.0 | 1 | 80 |\n| 5 | 97.1 | 1 | 73 |\n\n",
            "text/latex": "A data.frame: 5 × 3\n\\begin{tabular}{r|lll}\n  & bodytemp & gender & heartrate\\\\\n  & <dbl> & <dbl> & <dbl>\\\\\n\\hline\n\t1 & 96.3 & 1 & 70\\\\\n\t2 & 96.7 & 1 & 71\\\\\n\t3 & 96.9 & 1 & 74\\\\\n\t4 & 97.0 & 1 & 80\\\\\n\t5 & 97.1 & 1 & 73\\\\\n\\end{tabular}\n",
            "text/plain": [
              "  bodytemp gender heartrate\n",
              "1 96.3     1      70       \n",
              "2 96.7     1      71       \n",
              "3 96.9     1      74       \n",
              "4 97.0     1      80       \n",
              "5 97.1     1      73       "
            ]
          },
          "metadata": {}
        }
      ]
    },
    {
      "cell_type": "code",
      "source": [
        "colnames(cardiacdata)"
      ],
      "metadata": {
        "colab": {
          "base_uri": "https://localhost:8080/",
          "height": 34
        },
        "id": "PB7JKBnjh8kE",
        "outputId": "1e59c868-65cd-481a-e2bc-898288c632f6"
      },
      "execution_count": 74,
      "outputs": [
        {
          "output_type": "display_data",
          "data": {
            "text/html": [
              "<style>\n",
              ".list-inline {list-style: none; margin:0; padding: 0}\n",
              ".list-inline>li {display: inline-block}\n",
              ".list-inline>li:not(:last-child)::after {content: \"\\00b7\"; padding: 0 .5ex}\n",
              "</style>\n",
              "<ol class=list-inline><li>'bodytemp'</li><li>'gender'</li><li>'heartrate'</li></ol>\n"
            ],
            "text/markdown": "1. 'bodytemp'\n2. 'gender'\n3. 'heartrate'\n\n\n",
            "text/latex": "\\begin{enumerate*}\n\\item 'bodytemp'\n\\item 'gender'\n\\item 'heartrate'\n\\end{enumerate*}\n",
            "text/plain": [
              "[1] \"bodytemp\"  \"gender\"    \"heartrate\""
            ]
          },
          "metadata": {}
        }
      ]
    },
    {
      "cell_type": "code",
      "source": [
        "dim(cardiacdata)"
      ],
      "metadata": {
        "colab": {
          "base_uri": "https://localhost:8080/",
          "height": 34
        },
        "id": "8WPGUltrh-ZY",
        "outputId": "7a409c72-40cf-4388-8362-73a4c48a231e"
      },
      "execution_count": 75,
      "outputs": [
        {
          "output_type": "display_data",
          "data": {
            "text/html": [
              "<style>\n",
              ".list-inline {list-style: none; margin:0; padding: 0}\n",
              ".list-inline>li {display: inline-block}\n",
              ".list-inline>li:not(:last-child)::after {content: \"\\00b7\"; padding: 0 .5ex}\n",
              "</style>\n",
              "<ol class=list-inline><li>130</li><li>3</li></ol>\n"
            ],
            "text/markdown": "1. 130\n2. 3\n\n\n",
            "text/latex": "\\begin{enumerate*}\n\\item 130\n\\item 3\n\\end{enumerate*}\n",
            "text/plain": [
              "[1] 130   3"
            ]
          },
          "metadata": {}
        }
      ]
    },
    {
      "cell_type": "code",
      "source": [
        "class(cardiacdata)"
      ],
      "metadata": {
        "colab": {
          "base_uri": "https://localhost:8080/",
          "height": 34
        },
        "id": "wQfnnkokiBLc",
        "outputId": "149dafde-1f33-429f-abca-2cc58b194747"
      },
      "execution_count": 76,
      "outputs": [
        {
          "output_type": "display_data",
          "data": {
            "text/html": [
              "'data.frame'"
            ],
            "text/markdown": "'data.frame'",
            "text/latex": "'data.frame'",
            "text/plain": [
              "[1] \"data.frame\""
            ]
          },
          "metadata": {}
        }
      ]
    },
    {
      "cell_type": "code",
      "source": [
        "class(cardiacdata$bodytemp)"
      ],
      "metadata": {
        "colab": {
          "base_uri": "https://localhost:8080/",
          "height": 34
        },
        "id": "x-u4GzBCiDj2",
        "outputId": "75a6e750-4efd-4a71-8cd8-94d07734ef9b"
      },
      "execution_count": 77,
      "outputs": [
        {
          "output_type": "display_data",
          "data": {
            "text/html": [
              "'numeric'"
            ],
            "text/markdown": "'numeric'",
            "text/latex": "'numeric'",
            "text/plain": [
              "[1] \"numeric\""
            ]
          },
          "metadata": {}
        }
      ]
    },
    {
      "cell_type": "code",
      "source": [
        "class(cardiacdata$heartrate)"
      ],
      "metadata": {
        "colab": {
          "base_uri": "https://localhost:8080/",
          "height": 34
        },
        "id": "9caFZPkPiRYs",
        "outputId": "9130f25f-df7f-41a1-e164-8d6d7a94c590"
      },
      "execution_count": 78,
      "outputs": [
        {
          "output_type": "display_data",
          "data": {
            "text/html": [
              "'numeric'"
            ],
            "text/markdown": "'numeric'",
            "text/latex": "'numeric'",
            "text/plain": [
              "[1] \"numeric\""
            ]
          },
          "metadata": {}
        }
      ]
    },
    {
      "cell_type": "code",
      "source": [
        "# extract element in 1st row and 3th column\n",
        "cardiacdata[1,3]"
      ],
      "metadata": {
        "colab": {
          "base_uri": "https://localhost:8080/",
          "height": 34
        },
        "id": "QboKYQr4ibWu",
        "outputId": "0b078e27-e990-4cd5-b618-dd75583ea180"
      },
      "execution_count": 79,
      "outputs": [
        {
          "output_type": "display_data",
          "data": {
            "text/html": [
              "70"
            ],
            "text/markdown": "70",
            "text/latex": "70",
            "text/plain": [
              "[1] 70"
            ]
          },
          "metadata": {}
        }
      ]
    },
    {
      "cell_type": "code",
      "source": [
        "# extract rows 5-7 from columns 1-3\n",
        "cardiacdata[5:7,1:3]"
      ],
      "metadata": {
        "colab": {
          "base_uri": "https://localhost:8080/",
          "height": 192
        },
        "id": "HXRvr4bsidA2",
        "outputId": "1615542a-983d-4cbc-c8b2-38997dc2d5ef"
      },
      "execution_count": 80,
      "outputs": [
        {
          "output_type": "display_data",
          "data": {
            "text/html": [
              "<table class=\"dataframe\">\n",
              "<caption>A data.frame: 3 × 3</caption>\n",
              "<thead>\n",
              "\t<tr><th></th><th scope=col>bodytemp</th><th scope=col>gender</th><th scope=col>heartrate</th></tr>\n",
              "\t<tr><th></th><th scope=col>&lt;dbl&gt;</th><th scope=col>&lt;dbl&gt;</th><th scope=col>&lt;dbl&gt;</th></tr>\n",
              "</thead>\n",
              "<tbody>\n",
              "\t<tr><th scope=row>5</th><td>97.1</td><td>1</td><td>73</td></tr>\n",
              "\t<tr><th scope=row>6</th><td>97.1</td><td>1</td><td>75</td></tr>\n",
              "\t<tr><th scope=row>7</th><td>97.1</td><td>1</td><td>82</td></tr>\n",
              "</tbody>\n",
              "</table>\n"
            ],
            "text/markdown": "\nA data.frame: 3 × 3\n\n| <!--/--> | bodytemp &lt;dbl&gt; | gender &lt;dbl&gt; | heartrate &lt;dbl&gt; |\n|---|---|---|---|\n| 5 | 97.1 | 1 | 73 |\n| 6 | 97.1 | 1 | 75 |\n| 7 | 97.1 | 1 | 82 |\n\n",
            "text/latex": "A data.frame: 3 × 3\n\\begin{tabular}{r|lll}\n  & bodytemp & gender & heartrate\\\\\n  & <dbl> & <dbl> & <dbl>\\\\\n\\hline\n\t5 & 97.1 & 1 & 73\\\\\n\t6 & 97.1 & 1 & 75\\\\\n\t7 & 97.1 & 1 & 82\\\\\n\\end{tabular}\n",
            "text/plain": [
              "  bodytemp gender heartrate\n",
              "5 97.1     1      73       \n",
              "6 97.1     1      75       \n",
              "7 97.1     1      82       "
            ]
          },
          "metadata": {}
        }
      ]
    },
    {
      "cell_type": "code",
      "source": [
        "# extract column 'bodytemp' and assign to new object 'temperatures'\n",
        "temperatures <- cardiacdata$bodytemp"
      ],
      "metadata": {
        "id": "nevHj-XmigeB"
      },
      "execution_count": 81,
      "outputs": []
    },
    {
      "cell_type": "code",
      "source": [
        "# select columns 'gender' and 'heartrate' and assign to new object 'heartrates'\n",
        "heartrates <- select(cardiacdata, gender, heartrate)"
      ],
      "metadata": {
        "id": "nSQywtMGijOR"
      },
      "execution_count": 82,
      "outputs": []
    },
    {
      "cell_type": "code",
      "source": [
        "## append variable names with their respective units\n",
        "# rename 'bodytemp' to 'bodytemp_degF'\n",
        "cardiacdata <- rename(cardiacdata, bodytemp_degF = bodytemp)\n",
        "\n",
        "# rename 'heartrate' to 'heartrate_bpm'\n",
        "cardiacdata <- rename(cardiacdata, heartrate_bpm = heartrate)"
      ],
      "metadata": {
        "id": "M3lMJa30ik5I"
      },
      "execution_count": 83,
      "outputs": []
    },
    {
      "cell_type": "code",
      "source": [
        "head(cardiacdata)"
      ],
      "metadata": {
        "colab": {
          "base_uri": "https://localhost:8080/",
          "height": 286
        },
        "id": "UxpI8r-YimVW",
        "outputId": "67678afd-ee09-465b-d117-e8268c4b5689"
      },
      "execution_count": 84,
      "outputs": [
        {
          "output_type": "display_data",
          "data": {
            "text/html": [
              "<table class=\"dataframe\">\n",
              "<caption>A data.frame: 6 × 3</caption>\n",
              "<thead>\n",
              "\t<tr><th></th><th scope=col>bodytemp_degF</th><th scope=col>gender</th><th scope=col>heartrate_bpm</th></tr>\n",
              "\t<tr><th></th><th scope=col>&lt;dbl&gt;</th><th scope=col>&lt;dbl&gt;</th><th scope=col>&lt;dbl&gt;</th></tr>\n",
              "</thead>\n",
              "<tbody>\n",
              "\t<tr><th scope=row>1</th><td>96.3</td><td>1</td><td>70</td></tr>\n",
              "\t<tr><th scope=row>2</th><td>96.7</td><td>1</td><td>71</td></tr>\n",
              "\t<tr><th scope=row>3</th><td>96.9</td><td>1</td><td>74</td></tr>\n",
              "\t<tr><th scope=row>4</th><td>97.0</td><td>1</td><td>80</td></tr>\n",
              "\t<tr><th scope=row>5</th><td>97.1</td><td>1</td><td>73</td></tr>\n",
              "\t<tr><th scope=row>6</th><td>97.1</td><td>1</td><td>75</td></tr>\n",
              "</tbody>\n",
              "</table>\n"
            ],
            "text/markdown": "\nA data.frame: 6 × 3\n\n| <!--/--> | bodytemp_degF &lt;dbl&gt; | gender &lt;dbl&gt; | heartrate_bpm &lt;dbl&gt; |\n|---|---|---|---|\n| 1 | 96.3 | 1 | 70 |\n| 2 | 96.7 | 1 | 71 |\n| 3 | 96.9 | 1 | 74 |\n| 4 | 97.0 | 1 | 80 |\n| 5 | 97.1 | 1 | 73 |\n| 6 | 97.1 | 1 | 75 |\n\n",
            "text/latex": "A data.frame: 6 × 3\n\\begin{tabular}{r|lll}\n  & bodytemp\\_degF & gender & heartrate\\_bpm\\\\\n  & <dbl> & <dbl> & <dbl>\\\\\n\\hline\n\t1 & 96.3 & 1 & 70\\\\\n\t2 & 96.7 & 1 & 71\\\\\n\t3 & 96.9 & 1 & 74\\\\\n\t4 & 97.0 & 1 & 80\\\\\n\t5 & 97.1 & 1 & 73\\\\\n\t6 & 97.1 & 1 & 75\\\\\n\\end{tabular}\n",
            "text/plain": [
              "  bodytemp_degF gender heartrate_bpm\n",
              "1 96.3          1      70           \n",
              "2 96.7          1      71           \n",
              "3 96.9          1      74           \n",
              "4 97.0          1      80           \n",
              "5 97.1          1      73           \n",
              "6 97.1          1      75           "
            ]
          },
          "metadata": {}
        }
      ]
    },
    {
      "cell_type": "code",
      "source": [
        "# add new column with body temperature in degrees celsius\n",
        "cardiacdata <- mutate(cardiacdata, bodytemp_degC = (bodytemp_degF - 32)*(5/9))"
      ],
      "metadata": {
        "id": "NXtRTyq8io6p"
      },
      "execution_count": 85,
      "outputs": []
    },
    {
      "cell_type": "code",
      "source": [
        "# change values in gender column to read \"Female\" and \"Male\" instead of 1 and 2\n",
        "cardiacdata <- mutate(cardiacdata, gender = ifelse(gender == 1, 'Female', \n",
        "                                            ifelse(gender == 2, 'Male', NA)))"
      ],
      "metadata": {
        "id": "FxTivIZ1iqdC"
      },
      "execution_count": 86,
      "outputs": []
    },
    {
      "cell_type": "code",
      "source": [
        "head(cardiacdata)"
      ],
      "metadata": {
        "colab": {
          "base_uri": "https://localhost:8080/",
          "height": 286
        },
        "id": "dKOyIpYois27",
        "outputId": "5d1eb285-4ece-4ce0-d8b1-0f4494aa4e0b"
      },
      "execution_count": 87,
      "outputs": [
        {
          "output_type": "display_data",
          "data": {
            "text/html": [
              "<table class=\"dataframe\">\n",
              "<caption>A data.frame: 6 × 4</caption>\n",
              "<thead>\n",
              "\t<tr><th></th><th scope=col>bodytemp_degF</th><th scope=col>gender</th><th scope=col>heartrate_bpm</th><th scope=col>bodytemp_degC</th></tr>\n",
              "\t<tr><th></th><th scope=col>&lt;dbl&gt;</th><th scope=col>&lt;chr&gt;</th><th scope=col>&lt;dbl&gt;</th><th scope=col>&lt;dbl&gt;</th></tr>\n",
              "</thead>\n",
              "<tbody>\n",
              "\t<tr><th scope=row>1</th><td>96.3</td><td>Female</td><td>70</td><td>35.72222</td></tr>\n",
              "\t<tr><th scope=row>2</th><td>96.7</td><td>Female</td><td>71</td><td>35.94444</td></tr>\n",
              "\t<tr><th scope=row>3</th><td>96.9</td><td>Female</td><td>74</td><td>36.05556</td></tr>\n",
              "\t<tr><th scope=row>4</th><td>97.0</td><td>Female</td><td>80</td><td>36.11111</td></tr>\n",
              "\t<tr><th scope=row>5</th><td>97.1</td><td>Female</td><td>73</td><td>36.16667</td></tr>\n",
              "\t<tr><th scope=row>6</th><td>97.1</td><td>Female</td><td>75</td><td>36.16667</td></tr>\n",
              "</tbody>\n",
              "</table>\n"
            ],
            "text/markdown": "\nA data.frame: 6 × 4\n\n| <!--/--> | bodytemp_degF &lt;dbl&gt; | gender &lt;chr&gt; | heartrate_bpm &lt;dbl&gt; | bodytemp_degC &lt;dbl&gt; |\n|---|---|---|---|---|\n| 1 | 96.3 | Female | 70 | 35.72222 |\n| 2 | 96.7 | Female | 71 | 35.94444 |\n| 3 | 96.9 | Female | 74 | 36.05556 |\n| 4 | 97.0 | Female | 80 | 36.11111 |\n| 5 | 97.1 | Female | 73 | 36.16667 |\n| 6 | 97.1 | Female | 75 | 36.16667 |\n\n",
            "text/latex": "A data.frame: 6 × 4\n\\begin{tabular}{r|llll}\n  & bodytemp\\_degF & gender & heartrate\\_bpm & bodytemp\\_degC\\\\\n  & <dbl> & <chr> & <dbl> & <dbl>\\\\\n\\hline\n\t1 & 96.3 & Female & 70 & 35.72222\\\\\n\t2 & 96.7 & Female & 71 & 35.94444\\\\\n\t3 & 96.9 & Female & 74 & 36.05556\\\\\n\t4 & 97.0 & Female & 80 & 36.11111\\\\\n\t5 & 97.1 & Female & 73 & 36.16667\\\\\n\t6 & 97.1 & Female & 75 & 36.16667\\\\\n\\end{tabular}\n",
            "text/plain": [
              "  bodytemp_degF gender heartrate_bpm bodytemp_degC\n",
              "1 96.3          Female 70            35.72222     \n",
              "2 96.7          Female 71            35.94444     \n",
              "3 96.9          Female 74            36.05556     \n",
              "4 97.0          Female 80            36.11111     \n",
              "5 97.1          Female 73            36.16667     \n",
              "6 97.1          Female 75            36.16667     "
            ]
          },
          "metadata": {}
        }
      ]
    },
    {
      "cell_type": "code",
      "source": [
        "# filter for data from female subjects only\n",
        "cardiacdata_female <- filter(cardiacdata, gender == 'Female')"
      ],
      "metadata": {
        "id": "lZRETWuEixyz"
      },
      "execution_count": 88,
      "outputs": []
    },
    {
      "cell_type": "code",
      "source": [
        "cardiacdata <- cardiacdata %>%\n",
        "  filter(gender == 'Female') %>%\n",
        "  select(-gender) %>%\n",
        "  mutate(bodytemp_Kelvin = bodytemp_degC + 273)"
      ],
      "metadata": {
        "id": "5BWdIGtUkS7g"
      },
      "execution_count": 89,
      "outputs": []
    },
    {
      "cell_type": "code",
      "source": [
        "head(cardiacdata)"
      ],
      "metadata": {
        "colab": {
          "base_uri": "https://localhost:8080/",
          "height": 286
        },
        "id": "1oJDiEtW6BxT",
        "outputId": "26dc7f08-c6aa-46ce-a8f4-19d8d7f1cfb9"
      },
      "execution_count": 93,
      "outputs": [
        {
          "output_type": "display_data",
          "data": {
            "text/html": [
              "<table class=\"dataframe\">\n",
              "<caption>A data.frame: 6 × 4</caption>\n",
              "<thead>\n",
              "\t<tr><th></th><th scope=col>bodytemp_degF</th><th scope=col>heartrate_bpm</th><th scope=col>bodytemp_degC</th><th scope=col>bodytemp_Kelvin</th></tr>\n",
              "\t<tr><th></th><th scope=col>&lt;dbl&gt;</th><th scope=col>&lt;dbl&gt;</th><th scope=col>&lt;dbl&gt;</th><th scope=col>&lt;dbl&gt;</th></tr>\n",
              "</thead>\n",
              "<tbody>\n",
              "\t<tr><th scope=row>1</th><td>96.3</td><td>70</td><td>35.72222</td><td>308.7222</td></tr>\n",
              "\t<tr><th scope=row>2</th><td>96.7</td><td>71</td><td>35.94444</td><td>308.9444</td></tr>\n",
              "\t<tr><th scope=row>3</th><td>96.9</td><td>74</td><td>36.05556</td><td>309.0556</td></tr>\n",
              "\t<tr><th scope=row>4</th><td>97.0</td><td>80</td><td>36.11111</td><td>309.1111</td></tr>\n",
              "\t<tr><th scope=row>5</th><td>97.1</td><td>73</td><td>36.16667</td><td>309.1667</td></tr>\n",
              "\t<tr><th scope=row>6</th><td>97.1</td><td>75</td><td>36.16667</td><td>309.1667</td></tr>\n",
              "</tbody>\n",
              "</table>\n"
            ],
            "text/markdown": "\nA data.frame: 6 × 4\n\n| <!--/--> | bodytemp_degF &lt;dbl&gt; | heartrate_bpm &lt;dbl&gt; | bodytemp_degC &lt;dbl&gt; | bodytemp_Kelvin &lt;dbl&gt; |\n|---|---|---|---|---|\n| 1 | 96.3 | 70 | 35.72222 | 308.7222 |\n| 2 | 96.7 | 71 | 35.94444 | 308.9444 |\n| 3 | 96.9 | 74 | 36.05556 | 309.0556 |\n| 4 | 97.0 | 80 | 36.11111 | 309.1111 |\n| 5 | 97.1 | 73 | 36.16667 | 309.1667 |\n| 6 | 97.1 | 75 | 36.16667 | 309.1667 |\n\n",
            "text/latex": "A data.frame: 6 × 4\n\\begin{tabular}{r|llll}\n  & bodytemp\\_degF & heartrate\\_bpm & bodytemp\\_degC & bodytemp\\_Kelvin\\\\\n  & <dbl> & <dbl> & <dbl> & <dbl>\\\\\n\\hline\n\t1 & 96.3 & 70 & 35.72222 & 308.7222\\\\\n\t2 & 96.7 & 71 & 35.94444 & 308.9444\\\\\n\t3 & 96.9 & 74 & 36.05556 & 309.0556\\\\\n\t4 & 97.0 & 80 & 36.11111 & 309.1111\\\\\n\t5 & 97.1 & 73 & 36.16667 & 309.1667\\\\\n\t6 & 97.1 & 75 & 36.16667 & 309.1667\\\\\n\\end{tabular}\n",
            "text/plain": [
              "  bodytemp_degF heartrate_bpm bodytemp_degC bodytemp_Kelvin\n",
              "1 96.3          70            35.72222      308.7222       \n",
              "2 96.7          71            35.94444      308.9444       \n",
              "3 96.9          74            36.05556      309.0556       \n",
              "4 97.0          80            36.11111      309.1111       \n",
              "5 97.1          73            36.16667      309.1667       \n",
              "6 97.1          75            36.16667      309.1667       "
            ]
          },
          "metadata": {}
        }
      ]
    },
    {
      "cell_type": "markdown",
      "source": [
        "Need to reload data in order to bring back gender column"
      ],
      "metadata": {
        "id": "p-jZKWC56cMz"
      }
    },
    {
      "cell_type": "code",
      "source": [
        "bodytemp <- c(96.3,96.7,96.9,97,97.1,97.1,97.1,97.2,97.3,97.4,97.4,97.4,97.4,97.5,97.5,97.6,97.6,97.6,97.7,97.8,97.8,97.8,97.8,97.9,97.9,98,98,98,98,98,98,98.1,98.1,98.2,98.2,98.2,98.2,98.3,98.3,98.4,98.4,98.4,98.4,98.5,98.5,98.6,98.6,98.6,98.6,98.6,98.6,98.7,98.7,98.8,98.8,98.8,98.9,99,99,99,99.1,99.2,99.3,99.4,99.5,96.4,96.7,96.8,97.2,97.2,97.4,97.6,97.7,97.7,97.8,97.8,97.8,97.9,97.9,97.9,98,98,98,98,98,98.1,98.2,98.2,98.2,98.2,98.2,98.2,98.3,98.3,98.3,98.4,98.4,98.4,98.4,98.4,98.5,98.6,98.6,98.6,98.6,98.7,98.7,98.7,98.7,98.7,98.7,98.8,98.8,98.8,98.8,98.8,98.8,98.8,98.9,99,99,99.1,99.1,99.2,99.2,99.3,99.4,99.9,100,100.8)\n",
        "gender <- c(1,1,1,1,1,1,1,1,1,1,1,1,1,1,1,1,1,1,1,1,1,1,1,1,1,1,1,1,1,1,1,1,1,1,1,1,1,1,1,1,1,1,1,1,1,1,1,1,1,1,1,1,1,1,1,1,1,1,1,1,1,1,1,1,1,2,2,2,2,2,2,2,2,2,2,2,2,2,2,2,2,2,2,2,2,2,2,2,2,2,2,2,2,2,2,2,2,2,2,2,2,2,2,2,2,2,2,2,2,2,2,2,2,2,2,2,2,2,2,2,2,2,2,2,2,2,2,2,2,2)\n",
        "heartrate <- c(70,71,74,80,73,75,82,64,69,70,68,72,78,70,75,74,69,73,77,58,73,65,74,76,72,78,71,74,67,64,78,73,67,66,64,71,72,86,72,68,70,82,84,68,71,77,78,83,66,70,82,73,78,78,81,78,80,75,79,81,71,83,63,70,75,69,62,75,66,68,57,61,84,61,77,62,71,68,69,79,76,87,78,73,89,81,73,64,65,73,69,57,79,78,80,79,81,73,74,84,83,82,85,86,77,72,79,59,64,65,82,64,70,83,89,69,73,84,76,79,81,80,74,77,66,68,77,79,78,77)\n",
        "\n",
        "cardiacdata <- data.frame(bodytemp = bodytemp,\n",
        "                  gender = gender,\n",
        "                  heartrate = heartrate)"
      ],
      "metadata": {
        "id": "gZO9kapE6b6f"
      },
      "execution_count": 94,
      "outputs": []
    },
    {
      "cell_type": "code",
      "source": [
        "# extract column 'bodytemp' and assign to new object 'temperatures'\n",
        "temperatures <- cardiacdata$bodytemp\n",
        "# select columns 'gender' and 'heartrate' and assign to new object 'heartrates'\n",
        "heartrates <- select(cardiacdata, gender, heartrate)\n",
        "## append variable names with their respective units\n",
        "# rename 'bodytemp' to 'bodytemp_degF'\n",
        "cardiacdata <- rename(cardiacdata, bodytemp_degF = bodytemp)\n",
        "# rename 'heartrate' to 'heartrate_bpm'\n",
        "cardiacdata <- rename(cardiacdata, heartrate_bpm = heartrate)\n",
        "# add new column with body temperature in degrees celsius\n",
        "cardiacdata <- mutate(cardiacdata, bodytemp_degC = (bodytemp_degF - 32)*(5/9))\n",
        "# change values in gender column to read \"Female\" and \"Male\" instead of 1 and 2\n",
        "cardiacdata <- mutate(cardiacdata, gender = ifelse(gender == 1, 'Female', \n",
        "                                            ifelse(gender == 2, 'Male', NA)))"
      ],
      "metadata": {
        "id": "yAOCezVV6tE2"
      },
      "execution_count": 97,
      "outputs": []
    },
    {
      "cell_type": "code",
      "source": [
        "cardiacdata_byGender <- cardiacdata %>%\n",
        "  group_by(gender) %>%\n",
        "  summarize(avg_bodytemp_degF = mean(bodytemp_degF),\n",
        "            avg_bodytemp_degC = mean(bodytemp_degC), \n",
        "            avg_heartrate_bpm = mean(heartrate_bpm))  "
      ],
      "metadata": {
        "id": "_uMWacLDkU1R"
      },
      "execution_count": 98,
      "outputs": []
    },
    {
      "cell_type": "code",
      "source": [
        "some_numbers <- c(4,5,6,7,NA,8)"
      ],
      "metadata": {
        "id": "A-BbCphzkX5j"
      },
      "execution_count": 99,
      "outputs": []
    },
    {
      "cell_type": "code",
      "source": [
        "mean(some_numbers)"
      ],
      "metadata": {
        "colab": {
          "base_uri": "https://localhost:8080/",
          "height": 34
        },
        "id": "JIjH2rISvdM0",
        "outputId": "60021cee-f64c-4974-80b6-a53e2ca72c2e"
      },
      "execution_count": 100,
      "outputs": [
        {
          "output_type": "display_data",
          "data": {
            "text/html": [
              "&lt;NA&gt;"
            ],
            "text/markdown": "&lt;NA&gt;",
            "text/latex": "<NA>",
            "text/plain": [
              "[1] NA"
            ]
          },
          "metadata": {}
        }
      ]
    },
    {
      "cell_type": "code",
      "source": [
        "mean(some_numbers, na.rm = TRUE)"
      ],
      "metadata": {
        "colab": {
          "base_uri": "https://localhost:8080/",
          "height": 34
        },
        "id": "AVCBMkcGvgVu",
        "outputId": "febbda86-3216-42b5-de7e-df07d22eb095"
      },
      "execution_count": 101,
      "outputs": [
        {
          "output_type": "display_data",
          "data": {
            "text/html": [
              "6"
            ],
            "text/markdown": "6",
            "text/latex": "6",
            "text/plain": [
              "[1] 6"
            ]
          },
          "metadata": {}
        }
      ]
    },
    {
      "cell_type": "code",
      "source": [
        "ggplot(data = cardiacdata, mapping = aes(x = bodytemp_degC)) + \n",
        "  geom_histogram(bins = 20)"
      ],
      "metadata": {
        "colab": {
          "base_uri": "https://localhost:8080/",
          "height": 437
        },
        "id": "MbvTrGvNvkA3",
        "outputId": "6b4fd943-fd6d-485f-e32c-31cc4f6cebb7"
      },
      "execution_count": 102,
      "outputs": [
        {
          "output_type": "display_data",
          "data": {
            "text/plain": [
              "plot without title"
            ],
            "image/png": "[encoded data removed]"
          },
          "metadata": {
            "image/png": {
              "width": 420,
              "height": 420
            }
          }
        }
      ]
    },
    {
      "cell_type": "code",
      "source": [
        "ggplot(data = cardiacdata, mapping = aes(x = bodytemp_degC)) + \n",
        "  geom_histogram(bins = 20, aes(y = ..density..))"
      ],
      "metadata": {
        "colab": {
          "base_uri": "https://localhost:8080/",
          "height": 437
        },
        "id": "LDaoV56mvnRW",
        "outputId": "332e9fc7-41c1-431b-edb3-680e9a6ba6d7"
      },
      "execution_count": 103,
      "outputs": [
        {
          "output_type": "display_data",
          "data": {
            "text/plain": [
              "plot without title"
            ],
            "image/png": "[encoded data removed]"
          },
          "metadata": {
            "image/png": {
              "width": 420,
              "height": 420
            }
          }
        }
      ]
    },
    {
      "cell_type": "code",
      "source": [
        "ggplot(data = cardiacdata, mapping = aes(x = bodytemp_degC)) + \n",
        "  geom_histogram(bins = 20, aes(y = ..density..), fill = 'lightblue') +\n",
        "  xlab('body temperature (celsius)') +\n",
        "  ggtitle('distribution of body temperatures') +\n",
        "  theme_light()"
      ],
      "metadata": {
        "colab": {
          "base_uri": "https://localhost:8080/",
          "height": 437
        },
        "id": "J6ypBZ0Rvqwn",
        "outputId": "ca9f9b9f-ed54-4b63-e1b7-0c579be321ac"
      },
      "execution_count": 104,
      "outputs": [
        {
          "output_type": "display_data",
          "data": {
            "text/plain": [
              "plot without title"
            ],
            "image/png": "[encoded data removed]"
          },
          "metadata": {
            "image/png": {
              "width": 420,
              "height": 420
            }
          }
        }
      ]
    },
    {
      "cell_type": "code",
      "source": [
        "ggplot(data = cardiacdata, mapping = aes(x = heartrate_bpm, y = bodytemp_degC)) + \n",
        "  geom_point() +\n",
        "  theme_light()"
      ],
      "metadata": {
        "colab": {
          "base_uri": "https://localhost:8080/",
          "height": 437
        },
        "id": "3BTOwVrIvuCc",
        "outputId": "90a8982e-de46-47e8-e56e-95f6ebff04f2"
      },
      "execution_count": 105,
      "outputs": [
        {
          "output_type": "display_data",
          "data": {
            "text/plain": [
              "plot without title"
            ],
            "image/png": "[encoded data removed]"
          },
          "metadata": {
            "image/png": {
              "width": 420,
              "height": 420
            }
          }
        }
      ]
    },
    {
      "cell_type": "code",
      "source": [
        "ggplot(data = cardiacdata, mapping = aes(x = heartrate_bpm, y = bodytemp_degC, color = gender)) + \n",
        "  geom_point() +\n",
        "  theme_light()"
      ],
      "metadata": {
        "colab": {
          "base_uri": "https://localhost:8080/",
          "height": 437
        },
        "id": "eAUNn0DPvxCH",
        "outputId": "1c13fc90-a14c-4cbc-f7e7-adccdee2887b"
      },
      "execution_count": 106,
      "outputs": [
        {
          "output_type": "display_data",
          "data": {
            "text/plain": [
              "plot without title"
            ],
            "image/png": "[encoded data removed]"
          },
          "metadata": {
            "image/png": {
              "width": 420,
              "height": 420
            }
          }
        }
      ]
    },
    {
      "cell_type": "code",
      "source": [
        "ggplot(data = cardiacdata, mapping = aes(x = gender, y = bodytemp_degC)) +\n",
        "  geom_boxplot() +\n",
        "  xlab('gender') +\n",
        "  ylab('body temperature (celsius)') +\n",
        "  theme_light()"
      ],
      "metadata": {
        "colab": {
          "base_uri": "https://localhost:8080/",
          "height": 437
        },
        "id": "4d4STngnv0xf",
        "outputId": "8bce0627-04a7-496c-9e12-cecafc63bdf8"
      },
      "execution_count": 107,
      "outputs": [
        {
          "output_type": "display_data",
          "data": {
            "text/plain": [
              "plot without title"
            ],
            "image/png": "[encoded data removed]"
          },
          "metadata": {
            "image/png": {
              "width": 420,
              "height": 420
            }
          }
        }
      ]
    }
  ]
}